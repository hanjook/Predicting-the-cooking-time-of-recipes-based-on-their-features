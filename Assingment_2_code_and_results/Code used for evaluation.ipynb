{
 "cells": [
  {
   "cell_type": "code",
   "execution_count": 1,
   "metadata": {},
   "outputs": [],
   "source": [
    "import scipy\n",
    "import numpy as np\n",
    "import pandas as pd\n",
    "from sklearn.feature_extraction.text import CountVectorizer\n",
    "from sklearn.feature_extraction.text import TfidfTransformer\n",
    "from sklearn.model_selection import train_test_split\n",
    "from sklearn.metrics import accuracy_score\n",
    "from sklearn import preprocessing"
   ]
  },
  {
   "cell_type": "code",
   "execution_count": 2,
   "metadata": {},
   "outputs": [],
   "source": [
    "# code used in practical 9\n",
    "\n",
    "from sklearn.feature_selection import SelectKBest, chi2\n",
    "\n",
    "def chisquared(X_train, X_test, y_train, k):\n",
    "    x2 = SelectKBest(chi2, k)\n",
    "\n",
    "    X_train_x2 = x2.fit_transform(X_train,y_train)\n",
    "    X_test_x2 = x2.transform(X_test)\n",
    "    return [X_train_x2, X_test_x2]"
   ]
  },
  {
   "cell_type": "code",
   "execution_count": 3,
   "metadata": {},
   "outputs": [],
   "source": [
    "# code used in practical 9\n",
    "# for mutual-information based selection\n",
    "\n",
    "from sklearn.feature_selection import mutual_info_classif\n",
    "def mi(X_train, X_test, y_train, k):\n",
    "    mi = SelectKBest(score_func=mutual_info_classif, k=k)\n",
    "    X_train_mi = mi.fit_transform(X_train,y_train)\n",
    "    X_test_mi = mi.transform(X_test)\n",
    "    return [X_train_mi, X_test_mi]"
   ]
  },
  {
   "cell_type": "code",
   "execution_count": 13,
   "metadata": {},
   "outputs": [
    {
     "name": "stderr",
     "output_type": "stream",
     "text": [
      "C:\\Users\\user\\anaconda3\\lib\\site-packages\\sklearn\\utils\\validation.py:67: FutureWarning: Pass k=5000 as keyword args. From version 0.25 passing these as positional arguments will result in an error\n",
      "  warnings.warn(\"Pass {} as keyword args. From version 0.25 \"\n",
      "C:\\Users\\user\\anaconda3\\lib\\site-packages\\sklearn\\utils\\validation.py:67: FutureWarning: Pass k=8000 as keyword args. From version 0.25 passing these as positional arguments will result in an error\n",
      "  warnings.warn(\"Pass {} as keyword args. From version 0.25 \"\n",
      "C:\\Users\\user\\anaconda3\\lib\\site-packages\\sklearn\\utils\\validation.py:67: FutureWarning: Pass k=1000 as keyword args. From version 0.25 passing these as positional arguments will result in an error\n",
      "  warnings.warn(\"Pass {} as keyword args. From version 0.25 \"\n"
     ]
    }
   ],
   "source": [
    "# Creating the train and test data for each feature\n",
    "\n",
    "df = pd.read_csv(r\"recipe_train.csv\")\n",
    "\n",
    "\n",
    "y = df['duration_label']\n",
    "\n",
    "# creating train and test countvector for name \n",
    "countvector = CountVectorizer(stop_words = 'english')\n",
    "\n",
    "X_name = df['name']\n",
    "X_name_train, X_name_test, y_train, y_test = train_test_split(X_name, y, test_size=0.33, random_state=42)\n",
    "X_name_train = countvector.fit_transform(X_name_train)\n",
    "X_name_test = countvector.transform(X_name_test)\n",
    "X_name_train_x2 , X_name_test_x2 = chisquared(X_name_train, X_name_test, y_train, 5000)\n",
    "X_name_train_mi , X_name_test_mi = mi(X_name_train, X_name_test, y_train, 5000)\n",
    "\n",
    "\n",
    "# creating train and test countvector for steps\n",
    "stepcv = CountVectorizer(stop_words = 'english')\n",
    "\n",
    "X_steps = df['steps']\n",
    "X_steps_train, X_steps_test, y_train, y_test = train_test_split(X_steps, y, test_size=0.33, random_state=42)\n",
    "X_steps_train = stepcv.fit_transform(X_steps_train)\n",
    "X_steps_test = stepcv.transform(X_steps_test)\n",
    "X_steps_train_x2 , X_steps_test_x2 = chisquared(X_steps_train, X_steps_test, y_train, 8000)\n",
    "X_steps_train_mi , X_steps_test_mi = mi(X_steps_train, X_steps_test, y_train, 8000)\n",
    "\n",
    "\n",
    "# creating train and test countvector for ingredients\n",
    "ingcv = CountVectorizer(stop_words = 'english')\n",
    "\n",
    "X_ing = df['ingredients']\n",
    "X_ing_train, X_ing_test, y_train, y_test = train_test_split(X_ing, y, test_size=0.33, random_state=42)\n",
    "X_ing_train = ingcv.fit_transform(X_ing_train)\n",
    "X_ing_test = ingcv.transform(X_ing_test)\n",
    "X_ing_train_x2 , X_ing_test_x2 = chisquared(X_ing_train, X_ing_test, y_train, 1000)\n",
    "X_ing_train_mi , X_ing_test_mi = mi(X_ing_train, X_ing_test, y_train, 1000)\n",
    "\n",
    "\n",
    "# creating train and test data for number of ingredients\n",
    "X_ning = df['n_ingredients']\n",
    "X_ning_train, X_ning_test, y_train, y_test = train_test_split(X_ning, y, test_size=0.33, random_state=42)\n",
    "\n",
    "# creating train and test data for number of steps\n",
    "X_nsteps = df['n_steps']\n",
    "X_nstep_train, X_nstep_test, y_train, y_test = train_test_split(X_nsteps, y, test_size=0.33, random_state=42)\n",
    "\n",
    "# stack the features needed\n",
    "X_train = scipy.sparse.hstack([X_name_train, X_steps_train, X_ing_train, X_ning_train.values[:, None]])\n",
    "X_test = scipy.sparse.hstack([X_name_test, X_steps_test, X_ing_test, X_ning_test.values[:, None]])\n",
    "\n",
    "X_train_x2 = scipy.sparse.hstack([X_name_train_x2, X_steps_train_x2, X_ing_train_x2, X_ning_train.values[:, None]])\n",
    "X_test_x2 = scipy.sparse.hstack([X_name_test_x2, X_steps_test_x2, X_ing_test_x2, X_ning_test.values[:, None]])\n",
    "\n",
    "X_train_mi = scipy.sparse.hstack([X_name_train_mi, X_steps_train_mi, X_ing_train_mi, X_ning_train.values[:, None]])\n",
    "X_test_mi = scipy.sparse.hstack([X_name_test_mi, X_steps_test_mi, X_ing_test_mi, X_ning_test.values[:, None]])\n"
   ]
  },
  {
   "cell_type": "code",
   "execution_count": 14,
   "metadata": {
    "scrolled": true
   },
   "outputs": [
    {
     "name": "stdout",
     "output_type": "stream",
     "text": [
      "0.7332575757575758\n",
      "              precision    recall  f1-score   support\n",
      "\n",
      "         1.0       0.73      0.71      0.72      5814\n",
      "         2.0       0.75      0.77      0.76      6712\n",
      "         3.0       0.62      0.62      0.62       674\n",
      "\n",
      "    accuracy                           0.73     13200\n",
      "   macro avg       0.70      0.70      0.70     13200\n",
      "weighted avg       0.73      0.73      0.73     13200\n",
      "\n",
      "[[4124 1591   99]\n",
      " [1412 5138  162]\n",
      " [ 125  132  417]]\n",
      "[2. 2. 2. ... 1. 2. 2.]\n",
      "0.7406060606060606\n",
      "              precision    recall  f1-score   support\n",
      "\n",
      "         1.0       0.72      0.75      0.73      5814\n",
      "         2.0       0.77      0.75      0.76      6712\n",
      "         3.0       0.64      0.57      0.60       674\n",
      "\n",
      "    accuracy                           0.74     13200\n",
      "   macro avg       0.71      0.69      0.70     13200\n",
      "weighted avg       0.74      0.74      0.74     13200\n",
      "\n",
      "[[4332 1398   84]\n",
      " [1516 5059  137]\n",
      " [ 143  146  385]]\n"
     ]
    }
   ],
   "source": [
    "from sklearn.naive_bayes import MultinomialNB, GaussianNB\n",
    "from sklearn.tree import DecisionTreeClassifier\n",
    "from sklearn.svm import SVC\n",
    "from sklearn.neighbors import KNeighborsClassifier\n",
    "import pandas as pd\n",
    "\n",
    "from sklearn.metrics import confusion_matrix\n",
    "from sklearn.metrics import classification_report\n",
    "\n",
    "# code used in practical 9\n",
    "\n",
    "Xs = [(X_train, X_test), (X_train_x2, X_test_x2), (X_train_mi, X_test_mi)]\n",
    "\n",
    "models = [MultinomialNB(),\n",
    "          DecisionTreeClassifier(max_depth=None)]\n",
    "\n",
    "titles = ['MNB',\n",
    "          'Decision Tree']\n",
    "\n",
    "X_names = ['complete', 'x2', 'mi']\n",
    "for title, model in zip(titles, models):\n",
    "    print('\\n',title)\n",
    "    for X_name, X in zip(X_names, Xs):\n",
    "        X_train_t, X_test_t = X\n",
    "        model.fit(X_train_t.todense(), y_train)\n",
    "        acc = model.score(X_test_t.todense(), y_test)\n",
    "        print(X_name, 'acc',  acc)\n",
    "\n",
    "mnb = MultinomialNB().fit(X_train, y_train)\n",
    "acc_mnb = mnb.predict(X_test)\n",
    "print(mnb.score(X_test, y_test))\n",
    "print(classification_report(y_test, acc_mnb))\n",
    "print(confusion_matrix(y_test, acc_mnb))\n",
    "\n",
    "dt = DecisionTreeClassifier(max_depth=None)\n",
    "dt.fit(X_train, y_train)\n",
    "acc_dt = dt.predict(X_test)\n",
    "print(acc_dt)\n",
    "print(dt.score(X_test, y_test))\n",
    "print(classification_report(y_test, acc_dt))\n",
    "print(confusion_matrix(y_test, acc_dt))\n"
   ]
  },
  {
   "cell_type": "code",
   "execution_count": 18,
   "metadata": {},
   "outputs": [
    {
     "data": {
      "image/png": "[encoded data removed]",
      "text/plain": [
       "<Figure size 720x288 with 1 Axes>"
      ]
     },
     "metadata": {
      "needs_background": "light"
     },
     "output_type": "display_data"
    }
   ],
   "source": [
    "import matplotlib.pyplot as plt\n",
    "plt.figure(figsize=(10,4))\n",
    "df.duration_label.value_counts().plot(kind='bar');"
   ]
  }
 ],
 "metadata": {
  "kernelspec": {
   "display_name": "Python 3",
   "language": "python",
   "name": "python3"
  },
  "language_info": {
   "codemirror_mode": {
    "name": "ipython",
    "version": 3
   },
   "file_extension": ".py",
   "mimetype": "text/x-python",
   "name": "python",
   "nbconvert_exporter": "python",
   "pygments_lexer": "ipython3",
   "version": "3.8.5"
  }
 },
 "nbformat": 4,
 "nbformat_minor": 4
}
