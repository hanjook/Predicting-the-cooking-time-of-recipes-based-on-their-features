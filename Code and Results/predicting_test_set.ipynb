{
 "cells": [
  {
   "cell_type": "code",
   "execution_count": 3,
   "metadata": {},
   "outputs": [],
   "source": [
    "import pickle\n",
    "import scipy\n",
    "import numpy as np\n",
    "import pandas as pd\n",
    "from sklearn.feature_extraction.text import CountVectorizer\n",
    "from sklearn.feature_extraction.text import TfidfTransformer\n",
    "from sklearn.model_selection import train_test_split\n",
    "from sklearn.metrics import accuracy_score\n",
    "from sklearn import preprocessing"
   ]
  },
  {
   "cell_type": "code",
   "execution_count": 4,
   "metadata": {},
   "outputs": [],
   "source": [
    "# code used in practical 9\n",
    "# for chi-squared selection\n",
    "\n",
    "from sklearn.feature_selection import SelectKBest, chi2\n",
    "\n",
    "def chisquared(X_train, X_test, y_train, k):\n",
    "    x2 = SelectKBest(chi2, k)\n",
    "\n",
    "    X_train_x2 = x2.fit_transform(X_train,y_train)\n",
    "    X_test_x2 = x2.transform(X_test)\n",
    "    return [X_train_x2, X_test_x2]"
   ]
  },
  {
   "cell_type": "code",
   "execution_count": 5,
   "metadata": {},
   "outputs": [],
   "source": [
    "# code used in practical 9\n",
    "# for mutual-information based selection\n",
    "\n",
    "from sklearn.feature_selection import mutual_info_classif\n",
    "\n",
    "def mi(X_train, X_test, y_train, k):\n",
    "    mi = SelectKBest(score_func=mutual_info_classif, k=10)\n",
    "    X_train_mi = mi.fit_transform(X_train,y_train)\n",
    "    X_test_mi = mi.transform(X_test)\n",
    "    return [X_train_mi, X_test_mi]"
   ]
  },
  {
   "cell_type": "code",
   "execution_count": 6,
   "metadata": {},
   "outputs": [],
   "source": [
    "train_df = pd.read_csv(r\"COMP30027_2021_Project2_datasets/recipe_train.csv\")\n",
    "test_df = pd.read_csv(r\"COMP30027_2021_Project2_datasets/recipe_test.csv\")"
   ]
  },
  {
   "cell_type": "code",
   "execution_count": 7,
   "metadata": {},
   "outputs": [],
   "source": [
    "## Creating the train and test data for each feature\n",
    "\n",
    "\n",
    "# creating train and test countvector for name \n",
    "countvector = CountVectorizer(stop_words = 'english')\n",
    "X_train_name = countvector.fit_transform(train_df['name'])\n",
    "X_test_name = countvector.transform(test_df['name'])\n",
    "\n",
    "# creating train and test countvector for steps\n",
    "stepcv = CountVectorizer(stop_words = 'english')\n",
    "X_train_steps = stepcv.fit_transform(train_df['steps'])\n",
    "X_test_steps = stepcv.transform(test_df['steps'])\n",
    "\n",
    "# creating train and test countvector for ingredients\n",
    "ingcv = CountVectorizer(stop_words = 'english')\n",
    "X_train_ing = ingcv.fit_transform(train_df['ingredients'])\n",
    "X_test_ing = ingcv.transform(test_df['ingredients'])\n",
    "\n",
    "# creating train and test data for number of ingredients\n",
    "X_ning_train = train_df['n_ingredients']\n",
    "X_ning_test = test_df['n_ingredients']\n",
    "\n",
    "# creating train and test data for number of steps\n",
    "X_nsteps_train = train_df['n_steps']\n",
    "X_nsteps_test = test_df['n_steps']\n",
    "\n",
    "X_train = scipy.sparse.hstack([X_train_name, X_train_steps, X_train_ing, X_ning_train.values[:, None]])#, X_nsteps_train.values[:, None]])\n",
    "X_test = scipy.sparse.hstack([X_test_name, X_test_steps, X_test_ing, X_ning_test.values[:, None]])#, X_nsteps_test.values[:, None]])"
   ]
  },
  {
   "cell_type": "code",
   "execution_count": 8,
   "metadata": {
    "scrolled": true
   },
   "outputs": [
    {
     "name": "stdout",
     "output_type": "stream",
     "text": [
      "         id  duration_label\n",
      "0         1             2.0\n",
      "1         2             1.0\n",
      "2         3             2.0\n",
      "3         4             1.0\n",
      "4         5             2.0\n",
      "...     ...             ...\n",
      "9995   9996             2.0\n",
      "9996   9997             1.0\n",
      "9997   9998             1.0\n",
      "9998   9999             1.0\n",
      "9999  10000             2.0\n",
      "\n",
      "[10000 rows x 2 columns]\n",
      "         id  duration_label\n",
      "0         1             2.0\n",
      "1         2             1.0\n",
      "2         3             2.0\n",
      "3         4             1.0\n",
      "4         5             1.0\n",
      "...     ...             ...\n",
      "9995   9996             2.0\n",
      "9996   9997             1.0\n",
      "9997   9998             1.0\n",
      "9998   9999             1.0\n",
      "9999  10000             2.0\n",
      "\n",
      "[10000 rows x 2 columns]\n"
     ]
    }
   ],
   "source": [
    "## Training and producing predictions\n",
    "\n",
    "\n",
    "from sklearn.naive_bayes import MultinomialNB\n",
    "from sklearn.tree import DecisionTreeClassifier\n",
    "import pandas as pd\n",
    "\n",
    "# For Multinomial Naive Bayes Classifier\n",
    "y_train = train_df['duration_label']\n",
    "mnb = MultinomialNB().fit(X_train, y_train)\n",
    "acc_mnb = mnb.predict(X_test)\n",
    "\n",
    "# For Decision Tree Classifier\n",
    "dt = DecisionTreeClassifier(max_depth=None)\n",
    "dt.fit(X_train, y_train)\n",
    "acc_dt = dt.predict(X_test)\n",
    "\n",
    "# make csv file for mnb prediction\n",
    "id = list(range(1,10001))\n",
    "data = {'id': id, 'duration_label': acc_mnb}\n",
    "mnb_prediction = pd.DataFrame(data)\n",
    "mnb_prediction.reset_index(drop=True, inplace=True)\n",
    "mnb_prediction.to_csv('mnb_prediction (name+steps+ingredients+n_ingredients)', index = False)\n",
    "print(mnb_prediction)\n",
    "\n",
    "# make csv file for dt prediction\n",
    "data = {'id': id, 'duration_label': acc_dt}\n",
    "dt_prediction = pd.DataFrame(data)\n",
    "dt_prediction.reset_index(drop=True, inplace=True)\n",
    "dt_prediction.to_csv('dt_prediction (name+steps+ingredients+n_ingredients)', index = False)\n",
    "print(dt_prediction)"
   ]
  },
  {
   "cell_type": "code",
   "execution_count": null,
   "metadata": {},
   "outputs": [],
   "source": []
  }
 ],
 "metadata": {
  "kernelspec": {
   "display_name": "Python 3",
   "language": "python",
   "name": "python3"
  },
  "language_info": {
   "codemirror_mode": {
    "name": "ipython",
    "version": 3
   },
   "file_extension": ".py",
   "mimetype": "text/x-python",
   "name": "python",
   "nbconvert_exporter": "python",
   "pygments_lexer": "ipython3",
   "version": "3.8.5"
  }
 },
 "nbformat": 4,
 "nbformat_minor": 4
}
